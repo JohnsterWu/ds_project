{
  "nbformat": 4,
  "nbformat_minor": 0,
  "metadata": {
    "colab": {
      "provenance": []
    },
    "kernelspec": {
      "name": "python3",
      "display_name": "Python 3"
    },
    "language_info": {
      "name": "python"
    }
  },
  "cells": [
    {
      "cell_type": "markdown",
      "source": [
        "##**Dynamic Response Calculation: Simple Spring QZS device** ##"
      ],
      "metadata": {
        "id": "EZOZgGwGxrKC"
      }
    },
    {
      "cell_type": "code",
      "execution_count": null,
      "metadata": {
        "id": "R71I-3JjxIbD"
      },
      "outputs": [],
      "source": [
        "import numpy as np\n",
        "import matplotlib.pyplot as plt\n",
        "\n",
        "peak_f = []\n",
        "isolation_f = []"
      ]
    },
    {
      "cell_type": "code",
      "source": [
        "# Geometric parameters of the Simple Spring QZS device\n",
        "l_0 = 70\n",
        "l = 70-24\n",
        "k_v = 2\n",
        "k_h = 1.86\n",
        "m = 4\n",
        "\n",
        "k1 = k_v - 2*((l_0/l)-1)*k_h # Overall stiffness\n",
        "k3 = (l_0/(l**3))*k_h #cubic stiffness term\n",
        "alpha = k1/k_v\n",
        "x_s = (l_0**2 - l**2)**(0.5)\n",
        "\n",
        "damping = 0.25 # DAMPING RATIO\n",
        "gamma = (k3*x_s**2)/k_v # NONLINEARITY PARAMETER\n",
        "\n",
        "# Max allowable excitation magnitude\n",
        "X_max = x_s*4*damping*((1-alpha)/(3*gamma))**0.5\n",
        "print(x_s)"
      ],
      "metadata": {
        "id": "4q8YDx6wx1Ji",
        "colab": {
          "base_uri": "https://localhost:8080/",
          "height": 52
        },
        "outputId": "7d0ad478-4d3e-494c-c90d-7a5ff14678fe"
      },
      "execution_count": null,
      "outputs": [
        {
          "output_type": "execute_result",
          "data": {
            "text/plain": [
              "'# Geometric parameters of the Simple Spring QZS device\\nl_0 = 70\\nl = 70-24\\nk_v = 2\\nk_h = 1.86\\nm = 4\\n\\nk1 = k_v - 2*((l_0/l)-1)*k_h # Overall stiffness\\nk3 = (l_0/(l**3))*k_h #cubic stiffness term\\nalpha = k1/k_v\\nx_s = (l_0**2 - l**2)**(0.5)\\n\\ndamping = 0.25 # DAMPING RATIO\\ngamma = (k3*x_s**2)/k_v # NONLINEARITY PARAMETER\\n\\n# Max allowable excitation magnitude\\nX_max = x_s*4*damping*((1-alpha)/(3*gamma))**0.5\\nprint(x_s)'"
            ],
            "application/vnd.google.colaboratory.intrinsic+json": {
              "type": "string"
            }
          },
          "metadata": {},
          "execution_count": 169
        }
      ]
    },
    {
      "cell_type": "code",
      "source": [
        "# Geometric parameters of the SBS QZS device\n",
        "l_0 = 55\n",
        "l = 55-36.6\n",
        "k_v = 2\n",
        "k_h = 1.1\n",
        "m = 4\n",
        "a = k_h/k_v\n",
        "\n",
        "gamma2 = 1.08\n",
        "gamma1 = 0.74667\n",
        "\n",
        "alpha = 1-2*a*((1-gamma2)/gamma1 + 1)\n",
        "gamma = (-a*(1-gamma2))/gamma1**3\n",
        "\n",
        "x_s = l_0\n",
        "print(x_s)\n",
        "\n",
        "damping = 0.05 # DAMPING RATIO\n",
        "\n",
        "# Max allowable excitation magnitude\n",
        "X_max = 4*damping*((1-alpha)/(3*gamma))**0.5"
      ],
      "metadata": {
        "colab": {
          "base_uri": "https://localhost:8080/"
        },
        "id": "z7JC2ZJYuri6",
        "outputId": "89b0d0e0-1d03-411f-cac2-ce33e6c50da0"
      },
      "execution_count": null,
      "outputs": [
        {
          "output_type": "stream",
          "name": "stdout",
          "text": [
            "55\n"
          ]
        }
      ]
    },
    {
      "cell_type": "code",
      "source": [
        "# Geometric parameters of the CRS QZS device\n",
        "\n",
        "l_0 = 55\n",
        "l = 55-23.214\n",
        "k_v = 2\n",
        "k_h = 1.1\n",
        "m = 4\n",
        "a = k_h/k_v\n",
        "\n",
        "d = 26/(2*a)\n",
        "delta = d/26\n",
        "x_s = 26\n",
        "\n",
        "alpha = 1-2*a*delta\n",
        "gamma = -a*(delta - 1)\n",
        "damping = 0.1 # DAMPING RATIO\n",
        "xe = 5\n",
        "X_e = xe/26'''"
      ],
      "metadata": {
        "id": "Sj9QezC0sfko",
        "colab": {
          "base_uri": "https://localhost:8080/",
          "height": 34
        },
        "outputId": "20059c3c-7dbc-43d6-b98f-00892448ed76"
      },
      "execution_count": null,
      "outputs": [
        {
          "output_type": "execute_result",
          "data": {
            "text/plain": [
              "'# CRS device parameters\\nl_0 = 55\\nl = 55-23.214\\nk_v = 2\\nk_h = 1.1\\nm = 4\\na = k_h/k_v\\n\\nd = 26/(2*a)\\ndelta = d/26\\nx_s = 26\\n\\nalpha = 1-2*a*delta\\ngamma = -a*(delta - 1)\\ndamping = 0.1 # DAMPING RATIO\\nxe = 5\\nX_e = xe/26'"
            ],
            "application/vnd.google.colaboratory.intrinsic+json": {
              "type": "string"
            }
          },
          "metadata": {},
          "execution_count": 171
        }
      ]
    },
    {
      "cell_type": "code",
      "source": [
        "len = 10\n",
        "\n",
        "z1 = np.zeros((len,)); z2 = np.zeros((len,)); z3 = np.zeros((len,)); z4 = np.zeros((len,)); z5 = np.zeros((len,))\n",
        "Z_max = np.zeros((len,))\n",
        "\n",
        "Sum1 = np.zeros((len,1000))\n",
        "Sum2 = np.zeros((len,1000))\n",
        "Sum3 = np.zeros((len,1000))\n",
        "\n",
        "Omega1 = np.zeros((len,1000))\n",
        "Omega2 = np.zeros((len,1000))\n",
        "\n",
        "cos1 = np.zeros((len,1000))\n",
        "cos2 = np.zeros((len,1000))\n",
        "T_d1 = np.zeros((len,1000))\n",
        "T_d2 = np.zeros((len,1000))\n",
        "\n",
        "isolation = np.zeros((len,1000))\n",
        "peak_freq = np.zeros((len,))\n",
        "\n",
        "colour = [\"red\",\"orange\",\"blue\",\"grey\",\"green\",\"orange\",\"orange\",\"orange\",\"grey\",\"grey\"]"
      ],
      "metadata": {
        "id": "LGzUrK-y2N-d"
      },
      "execution_count": null,
      "outputs": []
    },
    {
      "cell_type": "code",
      "source": [
        "xe = 1\n",
        "amplitude = []\n",
        "\n",
        "for i in range(0,6):\n",
        "\n",
        "  # Initialize damping and excitation amplitude, the damping ratio must be such that the system response remains bounded at the resonant frequency\n",
        "  print(x_s)\n",
        "  X_e = xe/x_s\n",
        "  damping = np.sqrt((3*gamma*X_e**2)/16)+0.05\n",
        "  amplitude.append(xe)\n",
        "\n",
        "  # Calculating the maximum displacement response Z_max given the parameters\n",
        "  z1[i] = (3*alpha*gamma*X_e**2)/(4*damping**2)\n",
        "  z2[i] = 2*damping*(damping + (alpha/damping))\n",
        "  z3[i] = ((3*alpha*gamma*X_e**2)/(4*damping**2))\n",
        "  z4[i] = (damping - (alpha/damping))**2\n",
        "  z5[i] = 3*gamma*X_e**2*(1-((3*gamma *X_e**2)/(16*damping**2)))\n",
        "  Z_max[i] = np.sqrt(((z1[i] + z2[i]) - 2*damping * np.sqrt((z3[i] + z4[i])))/z5[i])+15\n",
        "\n",
        "  # Calculate the displacement response across a range of frequencies, max dispalcement response should not exceed Z_max\n",
        "  Z_hat = np.linspace(0.1,Z_max[i],1000)\n",
        "  Sum1[i] = (((3/4)*gamma*X_e**2*Z_hat**2 + alpha)*((3/4)*gamma*X_e**2*Z_hat**2 + alpha - 4*Z_hat**2*damping**2)+4*Z_hat**2*damping**4)\n",
        "  Sum2[i] = ((Z_hat**2*((3/4)*gamma*X_e**2*Z_hat**2 + alpha - 2*damping**2)) + Z_hat*(Sum1[i]**0.5))/(Z_hat**2 - 1)\n",
        "  Sum3[i] = ((Z_hat**2*((3/4)*gamma*X_e**2*Z_hat**2 + alpha - 2*damping**2)) - Z_hat*(Sum1[i]**0.5))/(Z_hat**2 - 1)\n",
        "\n",
        "  # Obtain the two branches of the curve\n",
        "  Omega1[i] = np.sqrt(Sum2[i])\n",
        "  Omega2[i] = np.sqrt(Sum3[i])\n",
        "\n",
        "  # Convert from displacement response to displacement transmissibility\n",
        "  cos1[i] = ((3/4)*X_e**2*gamma*Z_hat**3 +(alpha - Omega1[i]**2)*Z_hat)/(Omega1[i]**2)\n",
        "  cos2[i] = ((3/4)*X_e**2*gamma*Z_hat**3 +(alpha - Omega2[i]**2)*Z_hat)/(Omega2[i]**2)\n",
        "\n",
        "  # Displacement Transmissibility\n",
        "  T_d1[i] = (1+2*Z_hat*cos1[i] + Z_hat**2)**0.5\n",
        "  T_d2[i] = (1+2*Z_hat*cos2[i] + Z_hat**2)**0.5\n",
        "\n",
        "  # Isolation frequency & Peak frequency\n",
        "  for j in range(0,1000):\n",
        "    # Isolation frequency\n",
        "    if abs(T_d1[i][j])-1 <= 0.005:\n",
        "      isolation[i] = Omega1[i][j]\n",
        "    # Peak frequency\n",
        "    if T_d1[i][j] == max(T_d1[i]):\n",
        "      peak_freq[i] = Omega1[i][j]\n",
        "    elif T_d2[i][j] == max(T_d2[i]):\n",
        "      peak_freq[i] = Omega2[i][j]\n",
        "\n",
        "  plt.plot(Omega2[i], T_d2[i],color = colour[i],label=f\"Excitation = {xe:.2f}mm   $\\zeta$ = {damping:.3f}\")\n",
        "  plt.plot(Omega1[i], T_d1[i],color = colour[i])\n",
        "\n",
        "  xe += 1\n",
        "\n",
        "isolation_freq = np.zeros((10,))\n",
        "for i in range(10):\n",
        "  isolation_freq[i] = isolation[i][0]\n",
        "\n",
        "print(\"Isolation frequency:\", isolation_freq)\n",
        "print(\"Jump frequency:\", peak_freq)\n",
        "\n",
        "\n",
        "# Plot for a linear system\n",
        "l_0 = 70\n",
        "l = 70\n",
        "k_v = 2\n",
        "k1 = k_v\n",
        "k3 = (l_0/(l**3))*k_h\n",
        "alpha = k1/k_v\n",
        "x_s = (l_0**2 - l**2)**(0.5)\n",
        "X_e = 0.4\n",
        "damping = 0.065\n",
        "gamma = (k3*x_s**2)/k_v\n",
        "# Max allowable excitation magnitude\n",
        "Z_hat = np.linspace(0.1,70,1000)\n",
        "Sum1 = (((3/4)*gamma*X_e**2*Z_hat**2 + alpha)*((3/4)*gamma*X_e**2*Z_hat**2 + alpha - 4*Z_hat**2*damping**2)+4*Z_hat**2*damping**4)\n",
        "Sum2 = ((Z_hat**2*((3/4)*gamma*X_e**2*Z_hat**2 + alpha - 2*damping**2)) + Z_hat*(Sum1**0.5))/(Z_hat**2 - 1)\n",
        "Sum3 = ((Z_hat**2*((3/4)*gamma*X_e**2*Z_hat**2 + alpha - 2*damping**2)) - Z_hat*(Sum1**0.5))/(Z_hat**2 - 1)\n",
        "Omega1 = np.sqrt(Sum2)\n",
        "Omega2 = np.sqrt(Sum3)\n",
        "\n",
        "# Convert from displacement response to displacement transmissibility\n",
        "cos1 = ((3/4)*X_e**2*gamma*Z_hat**3 +(alpha - Omega1**2)*Z_hat)/(Omega1**2)\n",
        "cos2 = ((3/4)*X_e**2*gamma*Z_hat**3 +(alpha - Omega2**2)*Z_hat)/(Omega2**2)\n",
        "\n",
        "# Displacement Transmissibility\n",
        "T_d1 = (1+2*Z_hat*cos1 + Z_hat**2)**0.5\n",
        "T_d2 = (1+2*Z_hat*cos2 + Z_hat**2)**0.5\n",
        "\n",
        "plt.plot(Omega2, T_d2,color = \"black\", label=\"Linear System\")\n",
        "plt.plot(Omega1, T_d1,color = \"black\")\n",
        "print(\"Linear curve: \", X_e)\n",
        "\n",
        "plt.title(\"Transmissibility Curve\")\n",
        "plt.xlabel(\"Frequency ratio $\\Omega = \\omega/\\omega_n$\")\n",
        "plt.ylabel(\"Displacement Transmissibility\")\n",
        "plt.yscale(\"log\")\n",
        "plt.xscale(\"log\")\n",
        "plt.legend()\n",
        "plt.grid()\n",
        "plt.show()\n",
        "\n",
        "# Damping bounds\n",
        "print((3*gamma*X_e**2)/(16*damping**2))\n",
        "print(peak_freq)"
      ],
      "metadata": {
        "id": "ctEskDS32QCv",
        "colab": {
          "base_uri": "https://localhost:8080/",
          "height": 931
        },
        "outputId": "30dd2dcd-e7fd-4c61-f38e-1d284aa9cbd1"
      },
      "execution_count": null,
      "outputs": [
        {
          "output_type": "stream",
          "name": "stdout",
          "text": [
            "55\n"
          ]
        },
        {
          "output_type": "stream",
          "name": "stderr",
          "text": [
            "<ipython-input-173-c6b92bd65f7e>:23: RuntimeWarning: invalid value encountered in sqrt\n",
            "  Sum2[i] = ((Z_hat**2*((3/4)*gamma*X_e**2*Z_hat**2 + alpha - 2*damping**2)) + Z_hat*(Sum1[i]**0.5))/(Z_hat**2 - 1)\n",
            "<ipython-input-173-c6b92bd65f7e>:24: RuntimeWarning: invalid value encountered in sqrt\n",
            "  Sum3[i] = ((Z_hat**2*((3/4)*gamma*X_e**2*Z_hat**2 + alpha - 2*damping**2)) - Z_hat*(Sum1[i]**0.5))/(Z_hat**2 - 1)\n",
            "<ipython-input-173-c6b92bd65f7e>:27: RuntimeWarning: invalid value encountered in sqrt\n",
            "  Omega1[i] = np.sqrt(Sum2[i])\n"
          ]
        },
        {
          "output_type": "stream",
          "name": "stdout",
          "text": [
            "55\n",
            "55\n",
            "55\n",
            "55\n",
            "55\n",
            "Isolation frequency: [0.18914862 0.18972823 0.19550483 0.20076926 0.20898169 0.21161671\n",
            " 0.         0.         0.         0.        ]\n",
            "Jump frequency: [0.11903569 0.11923352 0.11854888 0.1188882  0.11879179 0.11914777\n",
            " 0.         0.         0.         0.        ]\n",
            "Linear curve:  0.4\n"
          ]
        },
        {
          "output_type": "stream",
          "name": "stderr",
          "text": [
            "<ipython-input-173-c6b92bd65f7e>:76: RuntimeWarning: invalid value encountered in sqrt\n",
            "  Sum2 = ((Z_hat**2*((3/4)*gamma*X_e**2*Z_hat**2 + alpha - 2*damping**2)) + Z_hat*(Sum1**0.5))/(Z_hat**2 - 1)\n",
            "<ipython-input-173-c6b92bd65f7e>:77: RuntimeWarning: invalid value encountered in sqrt\n",
            "  Sum3 = ((Z_hat**2*((3/4)*gamma*X_e**2*Z_hat**2 + alpha - 2*damping**2)) - Z_hat*(Sum1**0.5))/(Z_hat**2 - 1)\n",
            "<ipython-input-173-c6b92bd65f7e>:78: RuntimeWarning: invalid value encountered in sqrt\n",
            "  Omega1 = np.sqrt(Sum2)\n"
          ]
        },
        {
          "output_type": "display_data",
          "data": {
            "text/plain": [
              "<Figure size 640x480 with 1 Axes>"
            ],
            "image/png": "[encoded data removed]"
          },
          "metadata": {}
        },
        {
          "output_type": "stream",
          "name": "stdout",
          "text": [
            "0.0\n",
            "[0.11903569 0.11923352 0.11854888 0.1188882  0.11879179 0.11914777\n",
            " 0.         0.         0.         0.        ]\n"
          ]
        }
      ]
    },
    {
      "cell_type": "code",
      "source": [
        "# Determine frequency at which isolation occurs\n",
        "\n",
        "isolation_frequency = np.zeros((10,))\n",
        "linear_freq = np.full(10,np.sqrt(2))\n",
        "\n",
        "for i in range(10):\n",
        "  if peak_freq[i] >= isolation_freq[i]:\n",
        "    isolation_frequency[i] = peak_freq[i]\n",
        "  else:\n",
        "    isolation_frequency[i] = isolation_freq[i]\n",
        "\n",
        "print(isolation_freq)\n",
        "print(peak_freq)\n",
        "print(isolation_frequency)\n",
        "print(amplitude)"
      ],
      "metadata": {
        "colab": {
          "base_uri": "https://localhost:8080/"
        },
        "id": "zJ98hqdZx5nx",
        "outputId": "1ab0b408-9aa8-4af6-f1dd-7867ec40e0a2"
      },
      "execution_count": null,
      "outputs": [
        {
          "output_type": "stream",
          "name": "stdout",
          "text": [
            "[0.18914862 0.18972823 0.19550483 0.20076926 0.20898169 0.21161671\n",
            " 0.         0.         0.         0.        ]\n",
            "[0.11903569 0.11923352 0.11854888 0.1188882  0.11879179 0.11914777\n",
            " 0.         0.         0.         0.        ]\n",
            "[0.18914862 0.18972823 0.19550483 0.20076926 0.20898169 0.21161671\n",
            " 0.         0.         0.         0.        ]\n",
            "[1, 2, 3, 4, 5, 6]\n"
          ]
        }
      ]
    },
    {
      "cell_type": "code",
      "source": [
        "# Data storage system\n",
        "\n",
        "peak_f.append(peak_freq)\n",
        "isolation_f.append(isolation_f)\n",
        "\n",
        "print(peak_f)\n",
        "print(isolation_f)"
      ],
      "metadata": {
        "colab": {
          "base_uri": "https://localhost:8080/"
        },
        "id": "V_99uNTE8vE4",
        "outputId": "29e60023-e4a9-4cde-922e-7bc3f190a046"
      },
      "execution_count": null,
      "outputs": [
        {
          "output_type": "stream",
          "name": "stdout",
          "text": [
            "[array([0.11903569, 0.11923352, 0.11854888, 0.1188882 , 0.11879179,\n",
            "       0.11914777, 0.        , 0.        , 0.        , 0.        ])]\n",
            "[[...]]\n"
          ]
        }
      ]
    },
    {
      "cell_type": "code",
      "source": [
        "'''# Plotting the relationship of isolation frequency to amplitude of excitation\n",
        "\n",
        "device = [\"Simple spring\",\"SBS\",\"CRS\"]\n",
        "damping_ratio = [0.22, 0.05, 0.03]\n",
        "\n",
        "for i in range(0,3):\n",
        "  plt.plot(amplitude,peak_f[i],label = f\"{device[i]}, $\\zeta$ = {damping_ratio[i]:.3f}\")\n",
        "\n",
        "plt.plot(amplitude,linear_freq,label = f\"Linear system\")\n",
        "\n",
        "plt.xlabel(\"Excitation Amplitude (mm)\")\n",
        "plt.ylabel(\"Frequency Ratio $\\Omega_I$\")\n",
        "plt.title(f\"Isolation Frequency at $\\zeta$ = {damping:.3f}\")\n",
        "plt.ylim(0,1.6)\n",
        "plt.xlim(0,20)\n",
        "\n",
        "plt.legend()\n",
        "plt.grid()\n",
        "plt.show()'''"
      ],
      "metadata": {
        "id": "Z_MmrV9Z5eJ7",
        "colab": {
          "base_uri": "https://localhost:8080/",
          "height": 52
        },
        "outputId": "6c766fbc-4d33-4ee0-fc4c-515642dba9fe"
      },
      "execution_count": null,
      "outputs": [
        {
          "output_type": "execute_result",
          "data": {
            "text/plain": [
              "'# Plotting the relationship of isolation frequency to amplitude of excitation\\n\\ndevice = [\"Simple spring\",\"SBS\",\"CRS\"]\\ndamping_ratio = [0.22, 0.05, 0.03]\\n\\nfor i in range(0,3):\\n  plt.plot(amplitude,peak_f[i],label = f\"{device[i]}, $\\\\zeta$ = {damping_ratio[i]:.3f}\")\\n\\nplt.plot(amplitude,linear_freq,label = f\"Linear system\")\\n\\nplt.xlabel(\"Excitation Amplitude (mm)\")\\nplt.ylabel(\"Frequency Ratio $\\\\Omega_I$\")\\nplt.title(f\"Isolation Frequency at $\\\\zeta$ = {damping:.3f}\")\\nplt.ylim(0,1.6)\\nplt.xlim(0,20)\\n\\nplt.legend()\\nplt.grid()\\nplt.show()'"
            ],
            "application/vnd.google.colaboratory.intrinsic+json": {
              "type": "string"
            }
          },
          "metadata": {},
          "execution_count": 176
        }
      ]
    },
    {
      "cell_type": "markdown",
      "source": [
        "## Comparison of the 3 QZS device ##\n",
        "\n",
        "The transmissibility curves of the three devices will be compared.\n"
      ],
      "metadata": {
        "id": "J-rA9xkYHLhR"
      }
    },
    {
      "cell_type": "code",
      "source": [
        "d = 26/(2*0.56)\n",
        "delta = d/26\n",
        "gamma2 = 1.08\n",
        "gamma1 = 0.74667\n",
        "damping = 0.01\n",
        "\n",
        "k_v = np.array([2,2,2])\n",
        "k_h = np.array([1.8,1.1,1.1])\n",
        "a = np.array([k_h[0]/k_v[0],k_h[1]/k_v[1],k_h[2]/k_v[2]])\n",
        "nd = np.array([x_s,26,55])\n",
        "\n",
        "alpha_val = np.array([(k1/2), 0, (1-2*a[2]*((1-gamma2)/gamma1 + 1))])\n",
        "gamma_val = np.array([(k3*x_s**2)/2, -a[1]*(delta - 1), (-a[2]*(1-gamma2))/gamma1**3])\n",
        "\n",
        "print(np.shape(alpha_val))\n",
        "print(np.shape(gamma_val))\n",
        "\n",
        "colour = [\"red\",\"blue\",\"green\"]\n",
        "labels = [\"simple spring\", \"CRS\", \"SBS\"]\n",
        "\n",
        "X_e = 0\n",
        "xe = 10\n",
        "\n",
        "Sum1 = np.zeros((3,1000))\n",
        "Sum2 = np.zeros((3,1000))\n",
        "Sum3 = np.zeros((3,1000))\n",
        "print(np.shape(Sum3[1]))\n",
        "damping_ratio = [0.12,0.0415,0.03]\n",
        "\n",
        "for i in range(0,3):\n",
        "\n",
        "  # Initialize damping and excitation amplitude, the damping ratio must be such that the system response remains bounded at the resonant frequency\n",
        "  if i == 0:\n",
        "    X_e = xe/x_s\n",
        "  elif i == 1:\n",
        "    X_e = xe/26\n",
        "  else:\n",
        "    X_e = xe/55\n",
        "\n",
        "  damping = damping_ratio[i]#np.sqrt((3*gamma_val[i]*X_e**2)/16)+0.01\n",
        "\n",
        "  # Calculating the maximum displacement response Z_max given the parameters\n",
        "  z1[i] = (3*alpha_val[i]*gamma_val[i]*X_e**2)/(4*damping**2)\n",
        "  z2[i] = 2*damping*(damping + (alpha_val[i]/damping))\n",
        "  z3[i] = ((3*alpha_val[i]*gamma_val[i]*X_e**2)/(4*damping**2))\n",
        "  z4[i] = (damping - (alpha_val[i]/damping))**2\n",
        "  z5[i] = 3*gamma_val[i]*X_e**2*(1-((3*gamma_val[i] *X_e**2)/(16*damping**2)))\n",
        "  Z_max[i] = np.sqrt(((z1[i] + z2[i]) - 2*damping * np.sqrt((z3[i] + z4[i])))/z5[i])+25\n",
        "\n",
        "  # Calculate the displacement response across a range of frequencies, max dispalcement response should not exceed Z_max\n",
        "  Z_hat = np.linspace(0.1,Z_max[i],1000)\n",
        "\n",
        "  print(np.shape(Z_hat))\n",
        "  Sum1[i] = (((3/4)*gamma_val[i]*X_e**2*Z_hat**2 + alpha_val[i])*((3/4)*gamma_val[i]*X_e**2*Z_hat**2 + alpha_val[i] - 4*Z_hat**2*damping**2)+4*Z_hat**2*damping**4)\n",
        "  Sum2[i] = ((Z_hat**2*((3/4)*gamma_val[i]*X_e**2*Z_hat**2 + alpha_val[i] - 2*damping**2)) + Z_hat*(Sum1[i]**0.5))/(Z_hat**2 - 1)\n",
        "  Sum3[i] = ((Z_hat**2*((3/4)*gamma_val[i]*X_e**2*Z_hat**2 + alpha_val[i] - 2*damping**2)) - Z_hat*(Sum1[i]**0.5))/(Z_hat**2 - 1)\n",
        "\n",
        "  # Obtain the two branches of the curve\n",
        "  Omega1[i] = np.sqrt(Sum2[i])\n",
        "  Omega2[i] = np.sqrt(Sum3[i])\n",
        "\n",
        "  # Convert from displacement response to displacement transmissibility\n",
        "  cos1[i] = ((3/4)*X_e**2*gamma_val[i]*Z_hat**3 +(alpha_val[i] - Omega1[i]**2)*Z_hat)/(Omega1[i]**2)\n",
        "  cos2[i] = ((3/4)*X_e**2*gamma_val[i]*Z_hat**3 +(alpha_val[i] - Omega2[i]**2)*Z_hat)/(Omega2[i]**2)\n",
        "\n",
        "  # Displacement Transmissibility\n",
        "  T_d1[i] = (1+2*Z_hat*cos1[i] + Z_hat**2)**0.5\n",
        "  T_d2[i] = (1+2*Z_hat*cos2[i] + Z_hat**2)**0.5\n",
        "\n",
        "  plt.plot(Omega2[i], T_d2[i],color = colour[i], label=labels[i]+f\" $\\zeta$ = {damping:.3f}\")\n",
        "  plt.plot(Omega1[i], T_d1[i],color = colour[i])\n",
        "\n",
        "plt.title(f\"Transmissibility Curve Comparison (Excitation Amplitude $X_e$ = {xe:.2f}) mm\")\n",
        "plt.xlabel(\"Frequency ratio $\\Omega = \\omega/\\omega_n$\")\n",
        "plt.ylabel(\"Displacement Transmissibility\")\n",
        "plt.yscale(\"log\")\n",
        "plt.xscale(\"log\")\n",
        "plt.legend()\n",
        "plt.grid()\n",
        "plt.show()"
      ],
      "metadata": {
        "colab": {
          "base_uri": "https://localhost:8080/",
          "height": 263
        },
        "id": "I01RBHZ8IdkB",
        "outputId": "ff986cb5-8943-4f00-f18f-4a381b0128aa"
      },
      "execution_count": null,
      "outputs": [
        {
          "output_type": "stream",
          "name": "stdout",
          "text": [
            "(3,)\n",
            "(3,)\n",
            "(1000,)\n"
          ]
        },
        {
          "output_type": "error",
          "ename": "ZeroDivisionError",
          "evalue": "float division by zero",
          "traceback": [
            "\u001b[0;31m---------------------------------------------------------------------------\u001b[0m",
            "\u001b[0;31mZeroDivisionError\u001b[0m                         Traceback (most recent call last)",
            "\u001b[0;32m<ipython-input-177-b75885a25298>\u001b[0m in \u001b[0;36m<cell line: 30>\u001b[0;34m()\u001b[0m\n\u001b[1;32m     32\u001b[0m   \u001b[0;31m# Initialize damping and excitation amplitude, the damping ratio must be such that the system response remains bounded at the resonant frequency\u001b[0m\u001b[0;34m\u001b[0m\u001b[0;34m\u001b[0m\u001b[0m\n\u001b[1;32m     33\u001b[0m   \u001b[0;32mif\u001b[0m \u001b[0mi\u001b[0m \u001b[0;34m==\u001b[0m \u001b[0;36m0\u001b[0m\u001b[0;34m:\u001b[0m\u001b[0;34m\u001b[0m\u001b[0;34m\u001b[0m\u001b[0m\n\u001b[0;32m---> 34\u001b[0;31m     \u001b[0mX_e\u001b[0m \u001b[0;34m=\u001b[0m \u001b[0mxe\u001b[0m\u001b[0;34m/\u001b[0m\u001b[0mx_s\u001b[0m\u001b[0;34m\u001b[0m\u001b[0;34m\u001b[0m\u001b[0m\n\u001b[0m\u001b[1;32m     35\u001b[0m   \u001b[0;32melif\u001b[0m \u001b[0mi\u001b[0m \u001b[0;34m==\u001b[0m \u001b[0;36m1\u001b[0m\u001b[0;34m:\u001b[0m\u001b[0;34m\u001b[0m\u001b[0;34m\u001b[0m\u001b[0m\n\u001b[1;32m     36\u001b[0m     \u001b[0mX_e\u001b[0m \u001b[0;34m=\u001b[0m \u001b[0mxe\u001b[0m\u001b[0;34m/\u001b[0m\u001b[0;36m26\u001b[0m\u001b[0;34m\u001b[0m\u001b[0;34m\u001b[0m\u001b[0m\n",
            "\u001b[0;31mZeroDivisionError\u001b[0m: float division by zero"
          ]
        }
      ]
    },
    {
      "cell_type": "markdown",
      "source": [
        "## Error Estimation ##\n",
        "\n",
        "Since the parameters $\\alpha$ and $\\gamma$ are obtained through Taylor series approximation, the error is calculated."
      ],
      "metadata": {
        "id": "3OKptnhYwTVP"
      }
    },
    {
      "cell_type": "markdown",
      "source": [
        "**Simple Spring QZS Device**"
      ],
      "metadata": {
        "id": "YEnBS2fDwiyH"
      }
    },
    {
      "cell_type": "code",
      "source": [
        "x = np.linspace(-1.5,1.5,300)\n",
        "\n",
        "l_0 = 70\n",
        "l = 70-24\n",
        "k_v = 2\n",
        "k_h = 1.86\n",
        "m = 4\n",
        "a = k_h/k_v\n",
        "l_hat = l/l_0\n",
        "\n",
        "x_s = np.sqrt(l_0**2 - l**2)\n",
        "\n",
        "# True value\n",
        "f = x + 2*a*x*(1-1/(np.sqrt(x**2*(1-l_hat**2)+l_hat**2)))\n",
        "\n",
        "# Approximate value\n",
        "alpha_ss = 1-2*a*((1-l_hat)/l_hat)\n",
        "gamma_ss = a*((1-l_hat**2)/l_hat**3)\n",
        "\n",
        "f_approx = alpha_ss*x + gamma_ss*x**3\n",
        "\n",
        "# Displacement range of analysis\n",
        "lim_ss = 17/x_s\n",
        "\n",
        "plt.plot(x,f,label = \"True Curve\")\n",
        "plt.plot(x,f_approx,label = \"Taylor series approximation curve\")\n",
        "plt.axvspan(-lim_ss, lim_ss, color = \"green\", alpha = 0.2, label = \"Range of analysis\")\n",
        "plt.ylabel(\"Non-dimensional Force\")\n",
        "plt.xlabel(\"Non-dimensional displacement\")\n",
        "plt.xlim(-0.5,0.5)\n",
        "plt.ylim(-0.1,0.1)\n",
        "plt.legend()\n",
        "plt.title(\"Simple Spring device approximation error\")\n",
        "plt.show()\n",
        "\n",
        "error_ss = []\n",
        "# Maximum error\n",
        "for i in range(299):\n",
        "  if abs(x[i] - lim_ss) <= 0.01:\n",
        "    e = (abs(f_approx[i] - f[i])/f[i])\n",
        "    error_ss.append(e)\n",
        "\n",
        "print(error_ss)\n"
      ],
      "metadata": {
        "id": "_5ErVzF0wuhd"
      },
      "execution_count": null,
      "outputs": []
    },
    {
      "cell_type": "markdown",
      "source": [
        "**CRS QZS Device**"
      ],
      "metadata": {
        "id": "OPIS0OCOwn7P"
      }
    },
    {
      "cell_type": "code",
      "source": [
        "x = np.linspace(-1.5,1.5,300)\n",
        "d = 26/(2*0.56)\n",
        "delta = d/26\n",
        "a = 0.56\n",
        "\n",
        "# True values\n",
        "f = x - 2*a*x*(1+(delta-1)/np.sqrt(1-x**2))\n",
        "\n",
        "# Approximated values\n",
        "f_approx = -a*(delta-1)*x**3\n",
        "\n",
        "# Displacement range of analysis\n",
        "lim_crs = 17/26\n",
        "\n",
        "plt.plot(x,f,label = \"True Curve\")\n",
        "plt.plot(x,f_approx,label = \"Taylor series approximation curve\")\n",
        "plt.axvspan(-lim_crs, lim_crs, color = \"green\", alpha = 0.2, label = \"Range of analysis\")\n",
        "plt.ylabel(\"Non-dimensional Force\")\n",
        "plt.xlabel(\"Non-dimensional displacement\")\n",
        "plt.xlim(-1.5,1.5)\n",
        "plt.ylim(-0.1,0.1)\n",
        "plt.legend()\n",
        "plt.title(\"CRS device approximation error\")\n",
        "plt.show()\n",
        "\n",
        "error_crs = []\n",
        "# Maximum error\n",
        "for i in range(299):\n",
        "  if abs(x[i] - lim_crs) <= 0.01:\n",
        "    e = abs(f_approx[i] - f[i])/f[i]\n",
        "    error_crs.append(e)\n",
        "\n",
        "print(error_crs)"
      ],
      "metadata": {
        "id": "g4hj2fbEwwtW"
      },
      "execution_count": null,
      "outputs": []
    },
    {
      "cell_type": "code",
      "source": [
        "# Error curve\n",
        "x = np.linspace(-lim_crs,lim_crs,500)\n",
        "d = 26/(2*0.56)\n",
        "delta = d/26\n",
        "a = 0.56\n",
        "\n",
        "f2 = (x - 2*a*x*(1+(delta-1)/np.sqrt(1-x**2)))\n",
        "f_approx2 = (-a*(delta-1)*x**3)\n",
        "e2 = (abs(f_approx2 - f2)/f2)*100\n",
        "\n",
        "plt.plot(x,e2)\n",
        "plt.xlabel(\"Excitation amplitude\")\n",
        "plt.ylabel(\"Error(%)\")\n",
        "plt.grid()\n",
        "plt.show()"
      ],
      "metadata": {
        "id": "zQIbda8a5EtW"
      },
      "execution_count": null,
      "outputs": []
    },
    {
      "cell_type": "markdown",
      "source": [
        "**SBS QZS Device**"
      ],
      "metadata": {
        "id": "easZbv2GwrJv"
      }
    },
    {
      "cell_type": "code",
      "source": [
        "x = np.linspace(-1.5,1.5,300)\n",
        "\n",
        "l_0 = 55\n",
        "l = 55-36.6\n",
        "k_v = 2\n",
        "k_h = 1.1\n",
        "m = 4\n",
        "a = k_h/k_v\n",
        "\n",
        "gamma2 = 1.08\n",
        "gamma1 = 0.74667\n",
        "\n",
        "alpha = 1-2*a*((1-gamma2)/gamma1 + 1)\n",
        "gamma = (-a*(1-gamma2))/gamma1**3\n",
        "\n",
        "# True values\n",
        "f = x - 2*a*x*((1-gamma2)/np.sqrt(gamma1**2 - x**2) + 1)\n",
        "\n",
        "# Approximated values\n",
        "f_approx = alpha*x + gamma*x**3\n",
        "\n",
        "# Displacement range of analysis\n",
        "lim_sbs = 17/l_0\n",
        "\n",
        "plt.plot(x,f,label = \"True Curve\")\n",
        "plt.plot(x,f_approx,label = \"Taylor series approximation curve\")\n",
        "plt.axvspan(-lim_sbs, lim_sbs, color = \"green\", alpha = 0.2, label = \"Range of analysis\")\n",
        "plt.ylabel(\"Non-dimensional Force\")\n",
        "plt.xlabel(\"Non-dimensional displacement\")\n",
        "plt.xlim(-0.75,0.75)\n",
        "plt.ylim(-0.1,0.1)\n",
        "plt.title(\"SBS devcie approximation error\")\n",
        "plt.legend()\n",
        "plt.show()\n",
        "\n",
        "error_sbs = []\n",
        "# Maximum error\n",
        "for i in range(299):\n",
        "  if abs(x[i] - lim_sbs) <= 0.01:\n",
        "    e = abs(f_approx[i] - f[i])/f[i]\n",
        "    error_sbs.append(e)\n",
        "\n",
        "print(error_sbs)"
      ],
      "metadata": {
        "id": "BSxwV0buwxZ2"
      },
      "execution_count": null,
      "outputs": []
    },
    {
      "cell_type": "code",
      "source": [],
      "metadata": {
        "id": "hoZMIwzQHI_S"
      },
      "execution_count": null,
      "outputs": []
    }
  ]
}